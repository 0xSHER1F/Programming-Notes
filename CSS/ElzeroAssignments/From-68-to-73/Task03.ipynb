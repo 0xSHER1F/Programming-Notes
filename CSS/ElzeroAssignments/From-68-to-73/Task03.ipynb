{
 "cells": [
  {
   "cell_type": "markdown",
   "metadata": {},
   "source": [
    "# Write transform Value of The Following : \n",
    "\n",
    " ```css\n",
    " .class {\n",
    "    matrix(3, 0.2679, 0, 3, 20, 100);\n",
    " }\n",
    "\n",
    " /*\n",
    " \n",
    " --> scaleX(3)\n",
    " \n",
    " --> scewY(15deg)\n",
    " \n",
    " --> scewX(0deg)\n",
    " \n",
    " --> scaleY(3)\n",
    "\n",
    " --> translateX(20px)\n",
    "\n",
    " --> translateY(100px)\n",
    " \n",
    " */\n",
    " ```"
   ]
  }
 ],
 "metadata": {
  "language_info": {
   "name": "python"
  }
 },
 "nbformat": 4,
 "nbformat_minor": 2
}
