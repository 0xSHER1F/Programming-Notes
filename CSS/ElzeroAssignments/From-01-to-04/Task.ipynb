{
 "cells": [
  {
   "cell_type": "markdown",
   "metadata": {},
   "source": [
    "# <a href=\"https://elzero.org/css-assignments-lesson-from-1-to-4\">Assignments Here</a>\n",
    "\n",
    "***\n",
    "***"
   ]
  },
  {
   "cell_type": "markdown",
   "metadata": {},
   "source": [
    "# Assignment 01 : \n",
    "\n",
    " - What Does Every Selector of The Following Represent ? \n",
    "\n",
    " ```css\n",
    " /* Any Element With Class Title */\n",
    " .title {\n",
    " }\n",
    " \n",
    " /* Specific Element With nav ID */\n",
    " #nav {\n",
    " }\n",
    " \n",
    " /* All div Elements */\n",
    " div {\n",
    " }\n",
    " \n",
    " /* All h2 Elements */\n",
    " h2 {\n",
    " }\n",
    " ```\n",
    "\n",
    "***\n",
    "*** "
   ]
  },
  {
   "cell_type": "markdown",
   "metadata": {},
   "source": [
    "# Assignment 02 : \n",
    "\n",
    " - Write The Styling Type of The Following \n",
    "\n",
    " ```html\n",
    " <!-- External CSS Styling -->\n",
    " <link rel=\"stylesheet\" href=\"css/file.css\" />\n",
    " \n",
    " <!-- Internal CSS Styling -->\n",
    " <style>\n",
    " p {\n",
    "   color: red;\n",
    " }\n",
    " </style>\n",
    " \n",
    " <!-- Inline CSS Styling -->\n",
    " <p style=\"color: blue;\">This Is Our  Paragraph</p>\n",
    " ```\n",
    "\n",
    "***\n",
    "*** "
   ]
  },
  {
   "cell_type": "markdown",
   "metadata": {},
   "source": [
    "# Assignment 03 : \n",
    "\n",
    " - Call an External CSS File ```master.css``` , This file is in The Same Folder With ```index.html``` File Inside a Folder Named ```assets```\n",
    "\n",
    " ```html\n",
    " <link rel=\"stylesheet\" href=\"/assets/master.css\" />\n",
    " ```  \n",
    "\n",
    "***\n",
    "*** "
   ]
  },
  {
   "cell_type": "markdown",
   "metadata": {},
   "source": [
    "# Assignment 04 : \n",
    "\n",
    " - Call an External CSS File ```main.css``` , This file is Not in The Same Folder With ```index.html``` File Inside a Folder Named ```source```\n",
    "\n",
    " ```html\n",
    " <link rel=\"stylesheet\" href=\"../source/main.css\" />\n",
    " ```\n",
    "\n",
    "***\n",
    "***"
   ]
  },
  {
   "cell_type": "markdown",
   "metadata": {},
   "source": [
    "# Assignment 05 : \n",
    "\n",
    " - Which of The Following Identifiers Names are Valid/Not Valid ? \n",
    "\n",
    " ```css\n",
    " /* Valid => Class names can start with an underscore (_) and contain hyphens (-) */\n",
    " ._user-name {\n",
    " }\n",
    "\n",
    " /* Not Valid => Class names cannot start with a hyphen (-) followed by anything other than a letter */\n",
    " .-user-name {\n",
    " }\n",
    "\n",
    " /* Not Valid => Class names cannot start with a digit (1), as the first character must be a letter or an underscore */\n",
    " .1user-name {\n",
    " }\n",
    "\n",
    " /* Not Valid => The @ symbol is not allowed in CSS class names unless escaped, but even then, it's uncommon to see @ in class names */\n",
    " .@user-name {\n",
    " }\n",
    "\n",
    " /* Not Valid => The @ symbol is not allowed in the middle of class names without escaping */\n",
    " .user@name {\n",
    " }\n",
    "\n",
    " /* Valid => This class name is valid because it starts with an underscore, and it contains letters, digits, and underscores, all of which are allowed */\n",
    " ._user10name {\n",
    " }\n",
    "\n",
    " /* Valid =>  Single-letter class names are valid as long as they follow the rule of starting with a letter */\n",
    " .u {\n",
    " }\n",
    " ```  \n",
    "\n",
    "***\n",
    "***"
   ]
  },
  {
   "cell_type": "markdown",
   "metadata": {},
   "source": [
    "# Assignment 06 : \n",
    "\n",
    " - Which of The Following Identifiers Names are Following The Best Practice in Naming ? \n",
    "\n",
    " ```css\n",
    " /* Not Following Best Practice : All-uppercase letters are generally not recommended in class names, as CSS class names are case-sensitive */\n",
    " .USERNAME {\n",
    " }\n",
    "\n",
    " /* Not Following Best Practice : This is camelCase, which is typically avoided in CSS. The preferred convention is lowercase with hyphens to separate words */\n",
    " .UserName {\n",
    " }\n",
    "\n",
    " /* Following Best Practice : all lowercase letters and hyphens (-) to separate words */\n",
    " .user-name {\n",
    " }\n",
    "\n",
    " /* Not Following Best Practice */\n",
    " .userName {\n",
    " }\n",
    "\n",
    " /* Not Following Best Practice */\n",
    " .usernameprofile {\n",
    " }\n",
    " ```"
   ]
  }
 ],
 "metadata": {
  "language_info": {
   "name": "python"
  }
 },
 "nbformat": 4,
 "nbformat_minor": 2
}
