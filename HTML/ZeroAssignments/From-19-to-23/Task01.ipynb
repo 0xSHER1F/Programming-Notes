{
 "cells": [
  {
   "cell_type": "markdown",
   "metadata": {},
   "source": [
    "# Which of The Following Is an HTML Element ? \n",
    "\n",
    " - **[ Header - Nav - Main - Aside - Picture - Figure - Footer - FigCaption - Section - Command - Ruby - Data - Article - Install - Text ]**\n",
    "\n",
    " - ```<header>``` : an HTML Element That defines introductory content or a group of navigation links\n",
    "\n",
    " - ```<nav>``` : an HTML Element That defines a set of navigation links \n",
    "\n",
    " - ```<main>``` : Represents the dominant content of the body of a document\n",
    "\n",
    " - ```<aside>``` : an HTML Element That defines content that is tangentially related to the main content\n",
    "\n",
    " - ```<picture>``` : Contains zero or more ```<source>``` elements and one ```<img>``` element to offer alternative versions of an image for different display/device scenarios\n",
    "\n",
    " - ```<figure>``` : Represents self-contained content, It Groups media content with a caption, which is specified using the ```<figcaption>``` element\n",
    "\n",
    " - ```<footer>``` : an HTML Element That defines the footer of a section or page \n",
    "\n",
    " - ```<figcaption>``` : Defines a caption for the ```<figure>``` element\n",
    "\n",
    " - ```<section>``` : Defines sections within a document \n",
    "\n",
    " - ```<ruby>``` : Represents small annotations that are rendered above, below, or next to base text, usually used for showing the pronunciation of East Asian characters\n",
    "\n",
    " - ```<data>``` : Links a given piece of content with a machine-readable translation\n",
    "\n",
    " - ```<article>``` : Defines independent, self-contained content (like a blog post)\n",
    "\n",
    "***\n",
    "\n",
    " - ```<command>``` : Deprecated , Not Supported in HTML5\n",
    "\n",
    " - ```<install>``` : Not an HTML Element \n",
    "\n",
    " - ```<text>``` : Not an HTML Element \n",
    "\n",
    "***\n",
    "\n",
    "# For More Info about HTML Element <a href=\"https://developer.mozilla.org/en-US/docs/Web/HTML/Element\" target=\"_blank\">Click Here</a>"
   ]
  }
 ],
 "metadata": {
  "language_info": {
   "name": "python"
  }
 },
 "nbformat": 4,
 "nbformat_minor": 2
}
