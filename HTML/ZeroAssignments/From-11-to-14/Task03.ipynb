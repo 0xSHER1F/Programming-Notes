{
 "cells": [
  {
   "cell_type": "markdown",
   "metadata": {},
   "source": [
    "# Task 03 : \n",
    "\n",
    " - Write All Use Cases For Anchor Element ```<a>```\n",
    "\n",
    " ```html\n",
    "\n",
    " <!--\n",
    " Create Hyperlink To Another Webpage\n",
    " -->\n",
    " <a href=\"https://www.example.com\">Visit</a>\n",
    "\n",
    "\n",
    " <!--\n",
    " Create a Download Link Allowing Users to Download a File \n",
    " -->\n",
    " <a href=\"files/example.pdf\" download=\"ExampleFile\">Download</a>\n",
    "\n",
    "\n",
    " <!--\n",
    " Email Linking => create a link that opens the user's default email client with a pre-filled email address\n",
    " -->\n",
    " <a href=\"mailto:example@example.com\">Email Me</a>\n",
    "\n",
    "\n",
    " <!--\n",
    " Linking to a Document\n",
    " -->\n",
    " <a href=\"documents/report.pdf\">Read the Report</a>\n",
    "\n",
    "\n",
    " <!--\n",
    " Creating Navigation Menus \n",
    " -->\n",
    " <nav>\n",
    "  <a href=\"index.html\">Home</a>\n",
    "  <a href=\"about.html\">About</a>\n",
    "  <a href=\"contact.html\">Contact</a>\n",
    " </nav>\n",
    "\n",
    "\n",
    " ```"
   ]
  }
 ],
 "metadata": {
  "language_info": {
   "name": "python"
  }
 },
 "nbformat": 4,
 "nbformat_minor": 2
}
