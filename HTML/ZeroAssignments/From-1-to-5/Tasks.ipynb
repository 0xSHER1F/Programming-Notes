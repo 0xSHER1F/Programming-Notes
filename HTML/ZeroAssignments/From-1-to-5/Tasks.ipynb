{
 "cells": [
  {
   "cell_type": "markdown",
   "metadata": {},
   "source": [
    "<a href="https://elzero.org/html-assignments-lesson-from-1-to-5/">Tasks Here</a>\n",
    "***\n",
    "***\n",
    "***\n",
    "# Task 01 : \n",
    "\n",
    " - HTML = HyperText Markup Language \n",
    "\n",
    "\n",
    "***\n",
    "***\n",
    "***\n"
   ]
  },
  {
   "cell_type": "markdown",
   "metadata": {},
   "source": [
    "# Task 02 :\n",
    "\n",
    "```html\n",
    "<!DOCTYPE html>\n",
    "<html>\n",
    "    <head>\n",
    "        <title>My First Page</title>\n",
    "        <meta name=\"description\" content=\"This Is Description For My First Page\">\n",
    "        <link rel=\"stylesheet\" href=\"style.css\">\n",
    "        <style>\n",
    "        </style>\n",
    "        <script>\n",
    "        </script>\n",
    "    </head>\n",
    "    <body>\n",
    "        This Is My First Page\n",
    "    </body>\n",
    "</html>    \n",
    "```\n",
    "***\n",
    "***\n",
    "***"
   ]
  },
  {
   "cell_type": "markdown",
   "metadata": {},
   "source": [
    "# Task 03 :\n",
    "\n",
    " - Does The Content Written Inside The head Tag Appears in Page ? No Does Not Appear \n",
    "\n",
    " - Does title Element Has a Closing Tag ? Yes \n",
    "\n",
    " - Does meta Element Has a Closing Tag ? No, It is a Self-Closing Tag \n",
    "\n",
    " - Does The Content Written Inside The description attribute in the meta Tag Appears in Page ? No Does Not Appear  \n",
    "\n",
    "\n",
    "***\n",
    "***\n",
    "***\n",
    "\n"
   ]
  },
  {
   "cell_type": "markdown",
   "metadata": {},
   "source": [
    "# Task 04 : \n",
    "\n",
    "```html\n",
    "<!--\n",
    "Define The Character Encoding Used\n",
    "-->\n",
    "<meta charset=\"UTF-8\">\n",
    "<!--\n",
    "Provides a Brief Description of The Web Page For Search Engines \n",
    "-->\n",
    "<meta name=\"description\" content=\"Description Here\">\n",
    "<!--\n",
    "Controls how the webpage is displayed on various devices, particularly for responsive design\n",
    "-->\n",
    "<meta name=\"viewport\" content=\"width=device-width, initial-scale=1.0\">\n",
    "<!--\n",
    "Specifies the Author of the webpage\n",
    "-->\n",
    "<meta name=\"author\" content=\"Author Name Here\">\n",
    "```\n",
    "***\n",
    "***\n",
    "***\n"
   ]
  }
 ],
 "metadata": {
  "language_info": {
   "name": "python"
  }
 },
 "nbformat": 4,
 "nbformat_minor": 2
}
